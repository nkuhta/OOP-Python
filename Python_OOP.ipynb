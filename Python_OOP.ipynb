{
 "cells": [
  {
   "cell_type": "markdown",
   "metadata": {},
   "source": [
    "# Classes and Objects\n",
    "---"
   ]
  },
  {
   "cell_type": "code",
   "execution_count": 1,
   "metadata": {
    "collapsed": true
   },
   "outputs": [],
   "source": [
    "#  Check if employee has reached weekly target\n",
    "\n",
    "class Employee:\n",
    "    # class attributes (adjectives)\n",
    "    name = 'Ben'\n",
    "    job = 'Sales Executive'\n",
    "    salesThisWeek = 6\n",
    "    \n",
    "    # method/functions (actions)\n",
    "    def WeeklyTargetMet(self):\n",
    "        if self.salesThisWeek >= 5:\n",
    "            print('Weekly Sales Target Achieved')\n",
    "        else:\n",
    "            print('Weekly Sales Target Not Achieved')"
   ]
  },
  {
   "cell_type": "code",
   "execution_count": 2,
   "metadata": {
    "collapsed": true
   },
   "outputs": [],
   "source": [
    "#  Employee Object \n",
    "employeeOne = Employee()"
   ]
  },
  {
   "cell_type": "code",
   "execution_count": 3,
   "metadata": {},
   "outputs": [
    {
     "data": {
      "text/plain": [
       "'Ben'"
      ]
     },
     "execution_count": 3,
     "metadata": {},
     "output_type": "execute_result"
    }
   ],
   "source": [
    "#  Object name attribute \n",
    "employeeOne.name"
   ]
  },
  {
   "cell_type": "code",
   "execution_count": 4,
   "metadata": {},
   "outputs": [
    {
     "data": {
      "text/plain": [
       "'Sales Executive'"
      ]
     },
     "execution_count": 4,
     "metadata": {},
     "output_type": "execute_result"
    }
   ],
   "source": [
    "employeeOne.job"
   ]
  },
  {
   "cell_type": "code",
   "execution_count": 5,
   "metadata": {},
   "outputs": [
    {
     "data": {
      "text/plain": [
       "6"
      ]
     },
     "execution_count": 5,
     "metadata": {},
     "output_type": "execute_result"
    }
   ],
   "source": [
    "employeeOne.salesThisWeek"
   ]
  },
  {
   "cell_type": "code",
   "execution_count": 6,
   "metadata": {},
   "outputs": [
    {
     "name": "stdout",
     "output_type": "stream",
     "text": [
      "Weekly Sales Target Achieved\n"
     ]
    }
   ],
   "source": [
    "#  call the Weekly Sales Target method, note the () ending \n",
    "employeeOne.WeeklyTargetMet()"
   ]
  },
  {
   "cell_type": "code",
   "execution_count": 7,
   "metadata": {
    "collapsed": true
   },
   "outputs": [],
   "source": [
    "employeeTwo = Employee()"
   ]
  },
  {
   "cell_type": "code",
   "execution_count": 8,
   "metadata": {
    "collapsed": true
   },
   "outputs": [],
   "source": [
    "employeeTwo.name = 'Tim'"
   ]
  },
  {
   "cell_type": "code",
   "execution_count": 9,
   "metadata": {},
   "outputs": [
    {
     "data": {
      "text/plain": [
       "'Tim'"
      ]
     },
     "execution_count": 9,
     "metadata": {},
     "output_type": "execute_result"
    }
   ],
   "source": [
    "employeeTwo.name"
   ]
  },
  {
   "cell_type": "code",
   "execution_count": 10,
   "metadata": {},
   "outputs": [
    {
     "data": {
      "text/plain": [
       "'Ben'"
      ]
     },
     "execution_count": 10,
     "metadata": {},
     "output_type": "execute_result"
    }
   ],
   "source": [
    "employeeOne.name"
   ]
  },
  {
   "cell_type": "markdown",
   "metadata": {},
   "source": [
    "# Class Attributes and Instance Attributes \n",
    "---\n",
    "*  Class attributes remain the same across all instances"
   ]
  },
  {
   "cell_type": "code",
   "execution_count": 11,
   "metadata": {
    "collapsed": true
   },
   "outputs": [],
   "source": [
    "class Employee:\n",
    "    WorkHours = 40"
   ]
  },
  {
   "cell_type": "code",
   "execution_count": 12,
   "metadata": {
    "collapsed": true
   },
   "outputs": [],
   "source": [
    "e1 = Employee()\n",
    "e2 = Employee()"
   ]
  },
  {
   "cell_type": "code",
   "execution_count": 13,
   "metadata": {},
   "outputs": [
    {
     "data": {
      "text/plain": [
       "True"
      ]
     },
     "execution_count": 13,
     "metadata": {},
     "output_type": "execute_result"
    }
   ],
   "source": [
    "#  Check that class attributes are equal \n",
    "e1.WorkHours == e2.WorkHours"
   ]
  },
  {
   "cell_type": "code",
   "execution_count": 14,
   "metadata": {
    "collapsed": true
   },
   "outputs": [],
   "source": [
    "#  Change class attribute \n",
    "Employee.WorkHours = 45"
   ]
  },
  {
   "cell_type": "code",
   "execution_count": 15,
   "metadata": {},
   "outputs": [
    {
     "data": {
      "text/plain": [
       "45"
      ]
     },
     "execution_count": 15,
     "metadata": {},
     "output_type": "execute_result"
    }
   ],
   "source": [
    "e1.WorkHours"
   ]
  },
  {
   "cell_type": "code",
   "execution_count": 16,
   "metadata": {
    "collapsed": true
   },
   "outputs": [],
   "source": [
    "#  Instance Operator \n",
    "e1.name = 'John'"
   ]
  },
  {
   "cell_type": "code",
   "execution_count": 17,
   "metadata": {},
   "outputs": [
    {
     "data": {
      "text/plain": [
       "'John'"
      ]
     },
     "execution_count": 17,
     "metadata": {},
     "output_type": "execute_result"
    }
   ],
   "source": [
    "e1.name"
   ]
  },
  {
   "cell_type": "code",
   "execution_count": 18,
   "metadata": {
    "collapsed": true
   },
   "outputs": [],
   "source": [
    "e2.name = 'Mary'"
   ]
  },
  {
   "cell_type": "code",
   "execution_count": 19,
   "metadata": {
    "collapsed": true
   },
   "outputs": [],
   "source": [
    "e2.WorkHours = 20"
   ]
  },
  {
   "cell_type": "code",
   "execution_count": 20,
   "metadata": {},
   "outputs": [
    {
     "data": {
      "text/plain": [
       "False"
      ]
     },
     "execution_count": 20,
     "metadata": {},
     "output_type": "execute_result"
    }
   ],
   "source": [
    "e1.WorkHours == e2.WorkHours"
   ]
  },
  {
   "cell_type": "markdown",
   "metadata": {},
   "source": [
    "#  Self Parameter "
   ]
  },
  {
   "cell_type": "code",
   "execution_count": 21,
   "metadata": {
    "collapsed": true
   },
   "outputs": [],
   "source": [
    "class Employee: \n",
    "    \n",
    "    def Details(self):\n",
    "        self.name = 'Matt'\n",
    "        print('Name = ',self.name)\n",
    "        age = '40'\n",
    "        print(\"Age = \",age)\n",
    "    \n",
    "    def printDetails(self):\n",
    "        print('Method 2')\n",
    "        print('Name: ',self.name)\n",
    "        #  Age cannot be accessed here because no self parameter above \n",
    "        print('Age: ',age)"
   ]
  },
  {
   "cell_type": "code",
   "execution_count": 22,
   "metadata": {
    "collapsed": true
   },
   "outputs": [],
   "source": [
    "employee = Employee()"
   ]
  },
  {
   "cell_type": "code",
   "execution_count": 23,
   "metadata": {},
   "outputs": [
    {
     "name": "stdout",
     "output_type": "stream",
     "text": [
      "Name =  Matt\n",
      "Age =  40\n"
     ]
    }
   ],
   "source": [
    "employee.Details()"
   ]
  },
  {
   "cell_type": "code",
   "execution_count": 24,
   "metadata": {},
   "outputs": [
    {
     "name": "stdout",
     "output_type": "stream",
     "text": [
      "Method 2\n",
      "Name:  Matt\n"
     ]
    },
    {
     "ename": "NameError",
     "evalue": "name 'age' is not defined",
     "output_type": "error",
     "traceback": [
      "\u001b[1;31m---------------------------------------------------------------------------\u001b[0m",
      "\u001b[1;31mNameError\u001b[0m                                 Traceback (most recent call last)",
      "\u001b[1;32m<ipython-input-24-941d94a705ae>\u001b[0m in \u001b[0;36m<module>\u001b[1;34m()\u001b[0m\n\u001b[1;32m----> 1\u001b[1;33m \u001b[0memployee\u001b[0m\u001b[1;33m.\u001b[0m\u001b[0mprintDetails\u001b[0m\u001b[1;33m(\u001b[0m\u001b[1;33m)\u001b[0m\u001b[1;33m\u001b[0m\u001b[0m\n\u001b[0m",
      "\u001b[1;32m<ipython-input-21-bcdbee19ec98>\u001b[0m in \u001b[0;36mprintDetails\u001b[1;34m(self)\u001b[0m\n\u001b[0;32m     11\u001b[0m         \u001b[0mprint\u001b[0m\u001b[1;33m(\u001b[0m\u001b[1;34m'Name: '\u001b[0m\u001b[1;33m,\u001b[0m\u001b[0mself\u001b[0m\u001b[1;33m.\u001b[0m\u001b[0mname\u001b[0m\u001b[1;33m)\u001b[0m\u001b[1;33m\u001b[0m\u001b[0m\n\u001b[0;32m     12\u001b[0m         \u001b[1;31m#  Age cannot be accessed here because no self parameter above\u001b[0m\u001b[1;33m\u001b[0m\u001b[1;33m\u001b[0m\u001b[0m\n\u001b[1;32m---> 13\u001b[1;33m         \u001b[0mprint\u001b[0m\u001b[1;33m(\u001b[0m\u001b[1;34m'Age: '\u001b[0m\u001b[1;33m,\u001b[0m\u001b[0mage\u001b[0m\u001b[1;33m)\u001b[0m\u001b[1;33m\u001b[0m\u001b[0m\n\u001b[0m",
      "\u001b[1;31mNameError\u001b[0m: name 'age' is not defined"
     ]
    }
   ],
   "source": [
    "employee.printDetails()"
   ]
  },
  {
   "cell_type": "markdown",
   "metadata": {},
   "source": [
    "#  Static Methods and Instance Methods "
   ]
  },
  {
   "cell_type": "code",
   "execution_count": 25,
   "metadata": {
    "collapsed": true
   },
   "outputs": [],
   "source": [
    "class Employee: \n",
    "    \n",
    "    def Details(self):\n",
    "        self.name = 'Mike'\n",
    "     \n",
    "    # static method (no self parameter)\n",
    "    @staticmethod\n",
    "    def Welcome():\n",
    "        print('Welcome!')"
   ]
  },
  {
   "cell_type": "code",
   "execution_count": 26,
   "metadata": {
    "collapsed": true
   },
   "outputs": [],
   "source": [
    "employee = Employee()"
   ]
  },
  {
   "cell_type": "code",
   "execution_count": 27,
   "metadata": {
    "collapsed": true
   },
   "outputs": [],
   "source": [
    "employee.Details()"
   ]
  },
  {
   "cell_type": "code",
   "execution_count": 28,
   "metadata": {},
   "outputs": [
    {
     "name": "stdout",
     "output_type": "stream",
     "text": [
      "Mike\n"
     ]
    }
   ],
   "source": [
    "print(employee.name)"
   ]
  },
  {
   "cell_type": "code",
   "execution_count": 29,
   "metadata": {},
   "outputs": [
    {
     "name": "stdout",
     "output_type": "stream",
     "text": [
      "Welcome!\n"
     ]
    }
   ],
   "source": [
    "employee.Welcome()"
   ]
  },
  {
   "cell_type": "markdown",
   "metadata": {},
   "source": [
    "#  Init Method"
   ]
  },
  {
   "cell_type": "code",
   "execution_count": 30,
   "metadata": {
    "collapsed": true
   },
   "outputs": [],
   "source": [
    "class Employee: \n",
    "    \n",
    "    def __init__(self,name):\n",
    "        self.name = name\n",
    "    \n",
    "    \n",
    "    #  this needs to be called in order to create name\n",
    "    #  it's better and easier to initialize with the init method above \n",
    "    def enterDetails(self):\n",
    "        self.name = \"joe\"\n",
    "        \n",
    "    def DisplayDetails(self):\n",
    "        print(self.name)\n",
    "       "
   ]
  },
  {
   "cell_type": "code",
   "execution_count": 31,
   "metadata": {
    "collapsed": true
   },
   "outputs": [],
   "source": [
    "employee = Employee('joe')"
   ]
  },
  {
   "cell_type": "code",
   "execution_count": 32,
   "metadata": {},
   "outputs": [
    {
     "name": "stdout",
     "output_type": "stream",
     "text": [
      "joe\n"
     ]
    }
   ],
   "source": [
    "employee.DisplayDetails()"
   ]
  },
  {
   "cell_type": "code",
   "execution_count": 33,
   "metadata": {},
   "outputs": [
    {
     "name": "stdout",
     "output_type": "stream",
     "text": [
      "mark\n"
     ]
    }
   ],
   "source": [
    "e2 = Employee('mark')\n",
    "e2.DisplayDetails()"
   ]
  },
  {
   "cell_type": "markdown",
   "metadata": {},
   "source": [
    "#  Example problem \n",
    "---\n",
    "Write an object oriented program to create a precious stone.\n",
    "Not more than 5 precious stones can be held in possession at a\n",
    "given point of time. If there are more than 5 precious stones,\n",
    "delete the first stone and store the new one."
   ]
  },
  {
   "cell_type": "code",
   "execution_count": 34,
   "metadata": {
    "collapsed": true
   },
   "outputs": [],
   "source": [
    "class PreciousStone:\n",
    "    \n",
    "    def __init__(self,stone_list):\n",
    "        self.stone_list = stone_list\n",
    "    \n",
    "    #  see what's inside the bag\n",
    "    def BagItems(self):\n",
    "        print(self.stone_list)\n",
    "    \n",
    "    #  add stone to list (one at a time, removing 0th element if full)\n",
    "    def addItem(self,item):\n",
    "        if len(self.stone_list) < 5:\n",
    "            self.stone_list.append(item)\n",
    "        else:\n",
    "            self.stone_list.pop(0)\n",
    "            self.stone_list.append(item)\n",
    "    \n",
    "    #  remove the indexVal Stone_List item\n",
    "    def removeItem(self,indexVal):\n",
    "        self.stone_list.pop(indexVal)"
   ]
  },
  {
   "cell_type": "code",
   "execution_count": 35,
   "metadata": {
    "collapsed": true
   },
   "outputs": [],
   "source": [
    "my_list = [1,2,3,4,5]"
   ]
  },
  {
   "cell_type": "code",
   "execution_count": 36,
   "metadata": {},
   "outputs": [
    {
     "data": {
      "text/plain": [
       "[1, 2, 3, 4]"
      ]
     },
     "execution_count": 36,
     "metadata": {},
     "output_type": "execute_result"
    }
   ],
   "source": [
    "my_list.pop()\n",
    "my_list"
   ]
  },
  {
   "cell_type": "code",
   "execution_count": 37,
   "metadata": {
    "collapsed": true
   },
   "outputs": [],
   "source": [
    "Stone_List = PreciousStone(['ruby','2','gold'])"
   ]
  },
  {
   "cell_type": "code",
   "execution_count": 38,
   "metadata": {},
   "outputs": [
    {
     "name": "stdout",
     "output_type": "stream",
     "text": [
      "['ruby', '2', 'gold']\n"
     ]
    }
   ],
   "source": [
    "Stone_List.BagItems()"
   ]
  },
  {
   "cell_type": "code",
   "execution_count": 39,
   "metadata": {
    "collapsed": true
   },
   "outputs": [],
   "source": [
    "Stone_List.addItem('silver')"
   ]
  },
  {
   "cell_type": "code",
   "execution_count": 40,
   "metadata": {},
   "outputs": [
    {
     "name": "stdout",
     "output_type": "stream",
     "text": [
      "['ruby', '2', 'gold', 'silver']\n"
     ]
    }
   ],
   "source": [
    "Stone_List.BagItems()"
   ]
  },
  {
   "cell_type": "code",
   "execution_count": 41,
   "metadata": {
    "collapsed": true
   },
   "outputs": [],
   "source": [
    "Stone_List.addItem('5')"
   ]
  },
  {
   "cell_type": "code",
   "execution_count": 42,
   "metadata": {},
   "outputs": [
    {
     "name": "stdout",
     "output_type": "stream",
     "text": [
      "['ruby', '2', 'gold', 'silver', '5']\n"
     ]
    }
   ],
   "source": [
    "Stone_List.BagItems()"
   ]
  },
  {
   "cell_type": "code",
   "execution_count": 43,
   "metadata": {
    "collapsed": true
   },
   "outputs": [],
   "source": [
    "Stone_List.addItem('6')"
   ]
  },
  {
   "cell_type": "code",
   "execution_count": 44,
   "metadata": {},
   "outputs": [
    {
     "name": "stdout",
     "output_type": "stream",
     "text": [
      "['2', 'gold', 'silver', '5', '6']\n"
     ]
    }
   ],
   "source": [
    "Stone_List.BagItems()"
   ]
  },
  {
   "cell_type": "markdown",
   "metadata": {
    "collapsed": true
   },
   "source": [
    "# Abstraction and Encapsulation\n",
    "---\n",
    "Hide implementation details from the user"
   ]
  },
  {
   "cell_type": "code",
   "execution_count": 45,
   "metadata": {
    "collapsed": true
   },
   "outputs": [],
   "source": [
    "#  Abstraction:  display books, lend a book, add a book \n",
    "class Library: \n",
    "\n",
    "    def __init__(self,book_list):\n",
    "        self.book_list = book_list\n",
    "    \n",
    "    \n",
    "    def displayBooks(self):\n",
    "        print('')\n",
    "        print('Available Books')\n",
    "        for book in self.book_list:\n",
    "            print(book)\n",
    "        print('')\n",
    "        \n",
    "    def lendBook(self,requestedBook):\n",
    "        if requestedBook in self.book_list:\n",
    "            print('you have now borrowed the book')\n",
    "            self.book_list.remove(requestedBook)\n",
    "        else:\n",
    "            print('sorry book not available')\n",
    "            print('')\n",
    "            \n",
    "            \n",
    "    def addBook(self,returnedBook):\n",
    "        self.book_list.append(returnedBook)\n",
    "        print(\"you have returned the book, thanks! \")\n",
    "            \n",
    "    \n",
    "# Abstraction Layers:  request book, return book\n",
    "class Customer:\n",
    "    \n",
    "    def requestBook(self):\n",
    "        self.Book_Wanted = input('Input book you want to check out: ')\n",
    "        return self.Book_Wanted\n",
    "    \n",
    "    def returnBook(self):\n",
    "        print('Enter name of book you are returning')\n",
    "        self.book = input()\n",
    "        return self.book\n"
   ]
  },
  {
   "cell_type": "code",
   "execution_count": 46,
   "metadata": {
    "collapsed": true
   },
   "outputs": [],
   "source": [
    "library = Library(['book1','book2','book3'])"
   ]
  },
  {
   "cell_type": "code",
   "execution_count": 47,
   "metadata": {
    "collapsed": true
   },
   "outputs": [],
   "source": [
    "customer = Customer()"
   ]
  },
  {
   "cell_type": "code",
   "execution_count": 48,
   "metadata": {},
   "outputs": [
    {
     "name": "stdout",
     "output_type": "stream",
     "text": [
      "Enter 1 to display available books\n",
      "Enter 2 to request for a book\n",
      "Enter 3 to return a book\n",
      "Enter 4 to exit\n",
      "\n"
     ]
    },
    {
     "ename": "ValueError",
     "evalue": "invalid literal for int() with base 10: ''",
     "output_type": "error",
     "traceback": [
      "\u001b[1;31m---------------------------------------------------------------------------\u001b[0m",
      "\u001b[1;31mValueError\u001b[0m                                Traceback (most recent call last)",
      "\u001b[1;32m<ipython-input-48-d148086d591d>\u001b[0m in \u001b[0;36m<module>\u001b[1;34m()\u001b[0m\n\u001b[0;32m      6\u001b[0m     \u001b[0mprint\u001b[0m\u001b[1;33m(\u001b[0m\u001b[1;34m'Enter 4 to exit'\u001b[0m\u001b[1;33m)\u001b[0m\u001b[1;33m\u001b[0m\u001b[0m\n\u001b[0;32m      7\u001b[0m \u001b[1;33m\u001b[0m\u001b[0m\n\u001b[1;32m----> 8\u001b[1;33m     \u001b[0muserChoice\u001b[0m \u001b[1;33m=\u001b[0m \u001b[0mint\u001b[0m\u001b[1;33m(\u001b[0m\u001b[0minput\u001b[0m\u001b[1;33m(\u001b[0m\u001b[1;33m)\u001b[0m\u001b[1;33m)\u001b[0m\u001b[1;33m\u001b[0m\u001b[0m\n\u001b[0m\u001b[0;32m      9\u001b[0m \u001b[1;33m\u001b[0m\u001b[0m\n\u001b[0;32m     10\u001b[0m     \u001b[1;32mif\u001b[0m \u001b[0muserChoice\u001b[0m \u001b[1;32mis\u001b[0m \u001b[1;36m1\u001b[0m\u001b[1;33m:\u001b[0m\u001b[1;33m\u001b[0m\u001b[0m\n",
      "\u001b[1;31mValueError\u001b[0m: invalid literal for int() with base 10: ''"
     ]
    }
   ],
   "source": [
    "while True: \n",
    "\n",
    "    print(\"Enter 1 to display available books\")\n",
    "    print('Enter 2 to request for a book')\n",
    "    print('Enter 3 to return a book')\n",
    "    print('Enter 4 to exit')\n",
    "    \n",
    "    userChoice = int(input())\n",
    "\n",
    "    if userChoice is 1:\n",
    "        library.displayBooks()\n",
    "\n",
    "    elif userChoice is 2:\n",
    "        requestedBook = customer.requestBook()\n",
    "        library.lendBook(requestedBook)\n",
    "\n",
    "    elif userChoice is 3:\n",
    "        returnBook = customer.returnBook()\n",
    "        library.addBook(returnBook)\n",
    "\n",
    "    elif userChoice is 4:\n",
    "        \n",
    "        break\n",
    "        "
   ]
  },
  {
   "cell_type": "markdown",
   "metadata": {
    "collapsed": true
   },
   "source": [
    "# Inheritance\n",
    "*  Child class has it's own methods, but can inherent from parent class"
   ]
  },
  {
   "cell_type": "markdown",
   "metadata": {
    "collapsed": true
   },
   "source": [
    "## Single Level Inheritance"
   ]
  },
  {
   "cell_type": "code",
   "execution_count": 49,
   "metadata": {
    "collapsed": true
   },
   "outputs": [],
   "source": [
    "# Base class \n",
    "class Apple:\n",
    "    \n",
    "    manufacturer = \"Apple Inc.\"\n",
    "    website = 'www.apple.com/contact'\n",
    "    \n",
    "    def contactDetails(self):\n",
    "        print('To Contact us, log on to {}'.format(self.website))\n",
    "        \n",
    "    \n",
    "#  Inherit Apple class \n",
    "# Derived class\n",
    "class MacBook(Apple):\n",
    "    \n",
    "    def __init__(self):\n",
    "        self.yearOfManufacture = 2017\n",
    "        \n",
    "    def ManufactureDetails(self):\n",
    "        print('This macbook was manufactured in the year {} by {}'.format(self.yearOfManufacture,self.manufacturer))\n",
    "        \n",
    "    "
   ]
  },
  {
   "cell_type": "code",
   "execution_count": 50,
   "metadata": {
    "collapsed": true
   },
   "outputs": [],
   "source": [
    "lappy = MacBook()"
   ]
  },
  {
   "cell_type": "code",
   "execution_count": 51,
   "metadata": {},
   "outputs": [
    {
     "name": "stdout",
     "output_type": "stream",
     "text": [
      "This macbook was manufactured in the year 2017 by Apple Inc.\n"
     ]
    }
   ],
   "source": [
    "lappy.ManufactureDetails()"
   ]
  },
  {
   "cell_type": "code",
   "execution_count": 52,
   "metadata": {},
   "outputs": [
    {
     "name": "stdout",
     "output_type": "stream",
     "text": [
      "To Contact us, log on to www.apple.com/contact\n"
     ]
    }
   ],
   "source": [
    "lappy.contactDetails()"
   ]
  },
  {
   "cell_type": "markdown",
   "metadata": {
    "collapsed": true
   },
   "source": [
    "## Multiple Inheritance"
   ]
  },
  {
   "cell_type": "code",
   "execution_count": 53,
   "metadata": {
    "collapsed": true
   },
   "outputs": [],
   "source": [
    "class OperatingSystem:\n",
    "    multitasking = True\n",
    "    name = 'first class'\n",
    "    \n",
    "class Apple: \n",
    "    website = 'www.apple.com'\n",
    "    name = 'second class'\n",
    "    \n",
    "# Multiple Inheritance    \n",
    "class MacBook(OperatingSystem,Apple):\n",
    "    \n",
    "    def __init__(self):\n",
    "        if self.multitasking is True:\n",
    "            print('This is a multi-tasking system. Visit {} for details'.format(self.website))\n",
    "            #  prints OperatingSystem name, which is inherited first. \n",
    "            print(self.name)"
   ]
  },
  {
   "cell_type": "code",
   "execution_count": 54,
   "metadata": {},
   "outputs": [
    {
     "name": "stdout",
     "output_type": "stream",
     "text": [
      "This is a multi-tasking system. Visit www.apple.com for details\n",
      "first class\n"
     ]
    }
   ],
   "source": [
    "laptop = MacBook()"
   ]
  },
  {
   "cell_type": "markdown",
   "metadata": {},
   "source": [
    "# Multi-Level Inheritance"
   ]
  },
  {
   "cell_type": "code",
   "execution_count": 55,
   "metadata": {
    "collapsed": true
   },
   "outputs": [],
   "source": [
    "class Instruments:\n",
    "    numberOfNotes = 12\n",
    " \n",
    "    \n",
    "class Strings(Instruments):\n",
    "    typeOfWood = 'Tonewood'\n",
    "\n",
    "\n",
    "class Guitar(Strings):\n",
    "    \n",
    "    def __init__(self):\n",
    "        self.numberOfStrings = 6\n",
    "        print('This guitar consists of {} strings, is made of {}, and has {} unique notes'.format(self.numberOfStrings,self.typeOfWood,self.numberOfNotes))"
   ]
  },
  {
   "cell_type": "code",
   "execution_count": 56,
   "metadata": {},
   "outputs": [
    {
     "name": "stdout",
     "output_type": "stream",
     "text": [
      "This guitar consists of 6 strings, is made of Tonewood, and has 12 unique notes\n"
     ]
    }
   ],
   "source": [
    "Gibby = Guitar()"
   ]
  },
  {
   "cell_type": "markdown",
   "metadata": {},
   "source": [
    "# Private, Public and Protected Access Specifier"
   ]
  },
  {
   "cell_type": "code",
   "execution_count": 57,
   "metadata": {},
   "outputs": [
    {
     "name": "stdout",
     "output_type": "stream",
     "text": [
      "Public Wheels Attribute:  4\n",
      "Protected attribute Color: black\n",
      "private attribute year:  2017\n"
     ]
    }
   ],
   "source": [
    "#  Public     ==>  memberName\n",
    "#  Protected  ==>  _memberName\n",
    "#  Private    ==>  __memberName\n",
    "\n",
    "class Car:\n",
    "    numberOfWheels = 4\n",
    "    _color = 'black'\n",
    "    __year = '2017'  # _Car__year (shouldn't do this unless needed)\n",
    "    \n",
    "class BMW(Car):\n",
    "    def __init__(self):\n",
    "        print('Protected attribute Color:',self._color)\n",
    "    \n",
    "\n",
    "my_car = Car()\n",
    "print(\"Public Wheels Attribute: \",my_car.numberOfWheels)\n",
    "bmw = BMW()\n",
    "print('private attribute year: ',my_car._Car__year)"
   ]
  },
  {
   "cell_type": "markdown",
   "metadata": {},
   "source": [
    "# Polymorphism\n",
    "---\n",
    "*  Entity presented in more than one form \n",
    "*  Example is \"+\" symbol which performs addition to numbers, and concatination to strings"
   ]
  },
  {
   "cell_type": "markdown",
   "metadata": {},
   "source": [
    "### Overriding, and super()"
   ]
  },
  {
   "cell_type": "code",
   "execution_count": 58,
   "metadata": {
    "collapsed": true
   },
   "outputs": [],
   "source": [
    "#  Overriding\n",
    "\n",
    "class Employee:\n",
    "    \n",
    "    def setWorkingHours(self):\n",
    "        self.numWorkHours = 40\n",
    "    \n",
    "    def displayWorkingHours(self):\n",
    "        print(self.numWorkHours)      \n",
    "        \n",
    "class Trainee(Employee):\n",
    "    \n",
    "    #  redefine/override base class method\n",
    "    def setWorkingHours(self):\n",
    "        self.numWorkHours = 45\n",
    "    \n",
    "    #  reset to base function with super() function\n",
    "    def resetWorkHours(self):\n",
    "        super().setWorkingHours()"
   ]
  },
  {
   "cell_type": "code",
   "execution_count": 59,
   "metadata": {},
   "outputs": [
    {
     "name": "stdout",
     "output_type": "stream",
     "text": [
      "Number of working hours:  40\n"
     ]
    }
   ],
   "source": [
    "e1 = Employee()\n",
    "e1.setWorkingHours()\n",
    "print('Number of working hours: ',end = ' ')\n",
    "e1.displayWorkingHours()"
   ]
  },
  {
   "cell_type": "code",
   "execution_count": 60,
   "metadata": {},
   "outputs": [
    {
     "name": "stdout",
     "output_type": "stream",
     "text": [
      "Number of working hours:  45\n",
      "Number of working hours:  40\n"
     ]
    }
   ],
   "source": [
    "e2 = Trainee()\n",
    "e2.setWorkingHours()\n",
    "print('Number of working hours: ',end = ' ')\n",
    "e2.displayWorkingHours()\n",
    "e2.resetWorkHours()\n",
    "print('Number of working hours: ',end = ' ')\n",
    "e2.displayWorkingHours()"
   ]
  },
  {
   "cell_type": "markdown",
   "metadata": {
    "collapsed": true
   },
   "source": [
    "##  Diamond shaped problems"
   ]
  },
  {
   "cell_type": "code",
   "execution_count": 61,
   "metadata": {
    "collapsed": true
   },
   "outputs": [],
   "source": [
    "class A:\n",
    "    def method(self):\n",
    "        print('Class A method')\n",
    "\n",
    "class B(A):\n",
    "    #override class A\n",
    "    def method(self):\n",
    "        print('Class B method')\n",
    "\n",
    "class C(A):\n",
    "    #override class A\n",
    "    def method(self):\n",
    "        print('Class C method')\n",
    "\n",
    "class D(B,C):\n",
    "    pass"
   ]
  },
  {
   "cell_type": "code",
   "execution_count": 62,
   "metadata": {},
   "outputs": [
    {
     "name": "stdout",
     "output_type": "stream",
     "text": [
      "Class B method\n"
     ]
    }
   ],
   "source": [
    "d = D()\n",
    "d.method()"
   ]
  },
  {
   "cell_type": "markdown",
   "metadata": {},
   "source": [
    "## Overloading an Operator"
   ]
  },
  {
   "cell_type": "code",
   "execution_count": 67,
   "metadata": {},
   "outputs": [
    {
     "name": "stdout",
     "output_type": "stream",
     "text": [
      "sum of side of both squares =  60\n"
     ]
    }
   ],
   "source": [
    "class Square:\n",
    "    \n",
    "    def __init__(self,side):\n",
    "        self.side = side\n",
    "    \n",
    "    #  overload the add operator (__add__  is the + operator)\n",
    "    def __add__(squareOne,squareTwo):\n",
    "        return (4*squareOne.side + 4*squareTwo.side)\n",
    "        \n",
    "squareOne = Square(5)  #  5*4 = 20\n",
    "squareTwo = Square(10) #  10*4 = 40\n",
    "    \n",
    "print('sum of side of both squares = ',squareOne + squareTwo)"
   ]
  },
  {
   "cell_type": "markdown",
   "metadata": {
    "collapsed": true
   },
   "source": [
    "# Abstract Base Class (ABC)"
   ]
  },
  {
   "cell_type": "code",
   "execution_count": 77,
   "metadata": {
    "collapsed": true
   },
   "outputs": [],
   "source": [
    "from abc import ABCMeta,abstractmethod\n",
    "\n",
    "#  force the area function for every shape\n",
    "class Shape(metaclass = ABCMeta):\n",
    "    \n",
    "    @abstractmethod\n",
    "    def area(self):\n",
    "        return 0\n",
    "\n",
    "\n",
    "class Square(Shape):\n",
    "    side = 4\n",
    "    \n",
    "    def area(self):\n",
    "        print('Area of square: ',self.side * self.side)\n",
    "    \n",
    "class Rectangle(Shape):\n",
    "    width  = 5\n",
    "    length = 10\n",
    "    \n",
    "    def area(self):\n",
    "        print('Area of rectangle: ',self.length * self.width)"
   ]
  },
  {
   "cell_type": "code",
   "execution_count": 78,
   "metadata": {},
   "outputs": [],
   "source": [
    "square = Square()"
   ]
  },
  {
   "cell_type": "code",
   "execution_count": 79,
   "metadata": {
    "collapsed": true
   },
   "outputs": [],
   "source": [
    "rectangle = Rectangle()"
   ]
  },
  {
   "cell_type": "code",
   "execution_count": 80,
   "metadata": {},
   "outputs": [
    {
     "name": "stdout",
     "output_type": "stream",
     "text": [
      "Area of square:  16\n"
     ]
    }
   ],
   "source": [
    "square.area()"
   ]
  },
  {
   "cell_type": "code",
   "execution_count": 81,
   "metadata": {},
   "outputs": [
    {
     "name": "stdout",
     "output_type": "stream",
     "text": [
      "Area of rectangle:  50\n"
     ]
    }
   ],
   "source": [
    "rectangle.area()"
   ]
  },
  {
   "cell_type": "code",
   "execution_count": null,
   "metadata": {
    "collapsed": true
   },
   "outputs": [],
   "source": []
  },
  {
   "cell_type": "code",
   "execution_count": null,
   "metadata": {
    "collapsed": true
   },
   "outputs": [],
   "source": []
  },
  {
   "cell_type": "code",
   "execution_count": null,
   "metadata": {
    "collapsed": true
   },
   "outputs": [],
   "source": []
  }
 ],
 "metadata": {
  "kernelspec": {
   "display_name": "Python 3",
   "language": "python",
   "name": "python3"
  },
  "language_info": {
   "codemirror_mode": {
    "name": "ipython",
    "version": 3
   },
   "file_extension": ".py",
   "mimetype": "text/x-python",
   "name": "python",
   "nbconvert_exporter": "python",
   "pygments_lexer": "ipython3",
   "version": "3.6.3"
  }
 },
 "nbformat": 4,
 "nbformat_minor": 2
}
