{
 "cells": [
  {
   "cell_type": "markdown",
   "metadata": {},
   "source": [
    "#  Banking - Savings Account Problem\n",
    "---\n",
    "*  Give prompt to user asking for new vs. already exisiting account\n",
    "*  If new, accept name and initial deposit and create random 5 digit number new savings account number.\n",
    "*  If accessing an existing account, accept name and account number, give options to withdraw, deposit or display balance. "
   ]
  },
  {
   "cell_type": "code",
   "execution_count": null,
   "metadata": {
    "collapsed": true
   },
   "outputs": [],
   "source": [
    "from random import randint"
   ]
  },
  {
   "cell_type": "code",
   "execution_count": null,
   "metadata": {},
   "outputs": [],
   "source": [
    "#  5 digit random integer\n",
    "randint(10000,99999)"
   ]
  },
  {
   "cell_type": "markdown",
   "metadata": {},
   "source": [
    "# Solution #1"
   ]
  },
  {
   "cell_type": "code",
   "execution_count": null,
   "metadata": {
    "collapsed": true
   },
   "outputs": [],
   "source": [
    "\n",
    "class Savings:\n",
    "    \n",
    "    def __init__(self,name,balance):\n",
    "        self.name = name\n",
    "        #self.account = account\n",
    "        self.balance = balance\n",
    "        \n",
    "    def display_balance(self):\n",
    "        print(self.balance)\n",
    "\n",
    "    def deposit(self,deposit_amount):\n",
    "        self.balance = self.balance + deposit_amount\n",
    "    \n",
    "    def withdraw(self,withdraw_amount):\n",
    "        self.balance = self.balance - withdraw_amount\n",
    "        \n",
    "class Banking_Actions(Savings):\n",
    "    pass\n",
    "        "
   ]
  },
  {
   "cell_type": "code",
   "execution_count": null,
   "metadata": {},
   "outputs": [],
   "source": [
    "All_Users = []\n",
    "Global = {}\n",
    "while True: \n",
    "\n",
    "    print(\"Enter 1 to create new account\")\n",
    "    print('Enter 2 to access existing account')\n",
    "    print('Enter 3 to exit the system')\n",
    "    \n",
    "    userChoice = int(input())\n",
    "    \n",
    "\n",
    "    if userChoice is 1:\n",
    "        username = input('Please enter your name: ')\n",
    "        initial_deposit = int(input('please input your initial deposit: '))\n",
    "        acct_number = randint(10000,100000) \n",
    "        print('please store {} for your records'.format(acct_number))\n",
    "        global_user = username + str(acct_number)\n",
    "        All_Users.append(global_user)\n",
    "        #num_users = len(All_Users)\n",
    "        Global[global_user] = Savings(global_user,initial_deposit)\n",
    "        #print(username)       \n",
    "        \n",
    "        print('')\n",
    "\n",
    "    elif userChoice is 2:  \n",
    "        user_id = input('Please Input Account Username: ')\n",
    "        acct_id = input('Please Enter Account #: ')\n",
    "        full_account_name = user_id+acct_id\n",
    "        print(full_account_name)\n",
    "        if full_account_name in All_Users:\n",
    "            print('Account verified, thank you')\n",
    "            print('')\n",
    "            \n",
    "            print(\"Enter 1 to Make a Deposit\")\n",
    "            print('Enter 2 to Make a Withdrawal')\n",
    "            print('Enter 3 to Check Account Balance')\n",
    "            print('Enter 4 to Exit to Main Menu')\n",
    "            \n",
    "            bankChoice = int(input())\n",
    "            \n",
    "            if bankChoice is 1:\n",
    "                dep = int(input('Input Deposit ammount: '))\n",
    "                Global[full_account_name].deposit(dep)\n",
    "                \n",
    "            if bankChoice is 2:\n",
    "                with_amt = int(input('Input Withdrawal ammount: '))\n",
    "                Global[full_account_name].withdraw(with_amt)\n",
    "               \n",
    "            \n",
    "            if bankChoice is 3:\n",
    "                print('Your Account Balance is: {}'.format(Global[full_account_name].balance))\n",
    "            \n",
    "            if bankChoice is 4:\n",
    "                break   \n",
    "            \n",
    "        else: \n",
    "            print('sorry username and account # do not match')\n",
    "            print('')\n",
    "        \n",
    "    elif userChoice is 3:\n",
    "        \n",
    "        break"
   ]
  },
  {
   "cell_type": "markdown",
   "metadata": {
    "collapsed": true
   },
   "source": [
    "#  Solution #2"
   ]
  },
  {
   "cell_type": "code",
   "execution_count": 1,
   "metadata": {},
   "outputs": [],
   "source": [
    "from abc import ABCMeta, abstractmethod\n",
    "from random import randint\n",
    "\n",
    "class Account(metaclass = ABCMeta):\n",
    "    @abstractmethod\n",
    "    def createAccount():\n",
    "        return 0\n",
    "    @abstractmethod\n",
    "    def authenticate():\n",
    "        return 0\n",
    "    @abstractmethod\n",
    "    def withdraw():\n",
    "        return 0    \n",
    "    @abstractmethod\n",
    "    def deposit():\n",
    "        return 0\n",
    "    @abstractmethod\n",
    "    def displayBalance():\n",
    "        return 0\n",
    "    \n",
    "class SavingsAccount(Account):\n",
    "    \n",
    "    def __init__(self):\n",
    "        # key[0] = name; key[1] = balance\n",
    "        self.savingsAccounts = {}\n",
    "        \n",
    "        \n",
    "    def createAccount(self,name,initialDeposit):\n",
    "        self.accountNumber = randint(10000,99999)\n",
    "        self.savingsAccounts[self.accountNumber] = [name,initialDeposit]\n",
    "        print(self.savingsAccounts)\n",
    "        print(self.savingsAccounts.keys())\n",
    "        print('New Account Number :',self.accountNumber)\n",
    "    \n",
    "    def authenticate(self,name,accountNumber):\n",
    "        if accountNumber in self.savingsAccounts.keys():\n",
    "            if self.savingsAccounts[accountNumber][0]==name:\n",
    "                print(\"Authentication Successful\")\n",
    "                self.accountNumber = accountNumber\n",
    "                return True\n",
    "            else:\n",
    "                print('Authentication Failed: Name')\n",
    "                return False\n",
    "            \n",
    "        else:\n",
    "            print('Authentication Failed: Account #')\n",
    "            print(self.savingsAccounts.keys())\n",
    "            return False\n",
    "            \n",
    "     \n",
    "    \n",
    "    def withdraw(self,withAmount):\n",
    "        if withAmount > self.savingsAccounts[self.accountNumber][1]:\n",
    "            print('Insufficient balance')\n",
    "        else:\n",
    "            self.savingsAccounts[self.accountNumber][1]-=withAmount\n",
    "            print('Withdrawal complete')\n",
    "            self.displayBalance()\n",
    "    \n",
    "    def deposit(self,depAmount):\n",
    "        self.savingsAccounts[self.accountNumber][1]+=depAmount\n",
    "        print('Deposit complete')\n",
    "        self.displayBalance()\n",
    "    \n",
    "    \n",
    "    def displayBalance(self):\n",
    "        print('Available Balance: ',self.savingsAccounts[self.accountNumber][1])    \n",
    "\n",
    "    "
   ]
  },
  {
   "cell_type": "code",
   "execution_count": 2,
   "metadata": {},
   "outputs": [
    {
     "name": "stdout",
     "output_type": "stream",
     "text": [
      "Enter 1 to create a new account\n",
      "Enter 2 to access an existing account\n",
      "Enter 3 to exit\n",
      "1\n",
      "Enter your name: \n",
      "joe\n",
      "Enter the initial deposit: \n",
      "1\n",
      "{68184: ['joe', 1]}\n",
      "dict_keys([68184])\n",
      "New Account Number : 68184\n",
      "Enter 1 to create a new account\n",
      "Enter 2 to access an existing account\n",
      "Enter 3 to exit\n",
      "2\n",
      "Enter your name: \n",
      "joe\n",
      "Enter Account #: \n",
      "68184\n",
      "Authentication Successful\n",
      "Enter 1 to withdraw\n",
      "Enter 2 to deposit\n",
      "Enter 3 to display balance\n",
      "Enter 4 to go back to previous menu\n",
      "3\n",
      "Available Balance:  1\n",
      "Enter 1 to withdraw\n",
      "Enter 2 to deposit\n",
      "Enter 3 to display balance\n",
      "Enter 4 to go back to previous menu\n",
      "4\n",
      "Enter 1 to create a new account\n",
      "Enter 2 to access an existing account\n",
      "Enter 3 to exit\n",
      "2\n",
      "Enter your name: \n",
      "john\n",
      "Enter Account #: \n",
      "3\n",
      "Authentication Failed: Account #\n",
      "dict_keys([68184])\n",
      "Enter 1 to create a new account\n",
      "Enter 2 to access an existing account\n",
      "Enter 3 to exit\n",
      "1\n",
      "Enter your name: \n",
      "john\n",
      "Enter the initial deposit: \n",
      "12\n",
      "{68184: ['joe', 1], 64182: ['john', 12]}\n",
      "dict_keys([68184, 64182])\n",
      "New Account Number : 64182\n",
      "Enter 1 to create a new account\n",
      "Enter 2 to access an existing account\n",
      "Enter 3 to exit\n",
      "3\n"
     ]
    }
   ],
   "source": [
    "savings = SavingsAccount()\n",
    "\n",
    "while True:\n",
    "    \n",
    "\n",
    "    print('Enter 1 to create a new account')\n",
    "    print('Enter 2 to access an existing account')\n",
    "    print('Enter 3 to exit')\n",
    "\n",
    "    userChoice = int(input())\n",
    "\n",
    "    if userChoice is 1:\n",
    "        print('Enter your name: ' )\n",
    "        name = input()\n",
    "        print('Enter the initial deposit: ')\n",
    "        deposit = int(input())\n",
    "\n",
    "        savings.createAccount(name,deposit)\n",
    "\n",
    "    elif userChoice is 2:\n",
    "        print('Enter your name: ')\n",
    "        name = input()\n",
    "        print('Enter Account #: ')\n",
    "        acctNumber = int(input())\n",
    "        status = savings.authenticate(name,acctNumber)\n",
    "        \n",
    "        if status == True:\n",
    "            while True:\n",
    "                print('Enter 1 to withdraw')\n",
    "                print('Enter 2 to deposit')\n",
    "                print('Enter 3 to display balance')\n",
    "                print('Enter 4 to go back to previous menu')\n",
    "                \n",
    "                userChoice = int(input())\n",
    "                if userChoice is 1:\n",
    "                    print('Enter withdraw ammount')\n",
    "                    withammount = int(input())\n",
    "                    savings.withdraw(withammount)\n",
    "                elif userChoice is 2:\n",
    "                    print('Enter deposit ammount')\n",
    "                    depAmount = int(input())\n",
    "                    savings.deposit(depAmount)\n",
    "                elif userChoice is 3:\n",
    "                    savings.displayBalance()\n",
    "                elif userChoice is 4:\n",
    "                    break\n",
    "                    \n",
    "    elif userChoice is 3:\n",
    "        break"
   ]
  },
  {
   "cell_type": "code",
   "execution_count": null,
   "metadata": {
    "collapsed": true
   },
   "outputs": [],
   "source": []
  },
  {
   "cell_type": "code",
   "execution_count": null,
   "metadata": {
    "collapsed": true
   },
   "outputs": [],
   "source": []
  },
  {
   "cell_type": "code",
   "execution_count": null,
   "metadata": {
    "collapsed": true
   },
   "outputs": [],
   "source": []
  },
  {
   "cell_type": "code",
   "execution_count": null,
   "metadata": {
    "collapsed": true
   },
   "outputs": [],
   "source": []
  },
  {
   "cell_type": "code",
   "execution_count": null,
   "metadata": {
    "collapsed": true
   },
   "outputs": [],
   "source": []
  },
  {
   "cell_type": "code",
   "execution_count": null,
   "metadata": {
    "collapsed": true
   },
   "outputs": [],
   "source": []
  },
  {
   "cell_type": "code",
   "execution_count": null,
   "metadata": {
    "collapsed": true
   },
   "outputs": [],
   "source": []
  }
 ],
 "metadata": {
  "kernelspec": {
   "display_name": "Python 3",
   "language": "python",
   "name": "python3"
  },
  "language_info": {
   "codemirror_mode": {
    "name": "ipython",
    "version": 3
   },
   "file_extension": ".py",
   "mimetype": "text/x-python",
   "name": "python",
   "nbconvert_exporter": "python",
   "pygments_lexer": "ipython3",
   "version": "3.6.3"
  }
 },
 "nbformat": 4,
 "nbformat_minor": 2
}
