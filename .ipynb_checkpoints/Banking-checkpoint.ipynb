{
 "cells": [
  {
   "cell_type": "markdown",
   "metadata": {},
   "source": [
    "#  Banking - Savings Account Problem\n",
    "---\n",
    "*  Give prompt to user asking for new vs. already exisiting account\n",
    "*  If new, accept name and initial deposit and create random 5 digit number new savings account number.\n",
    "*  If accessing an existing account, accept name and account number, give options to withdraw, deposit or display balance. "
   ]
  },
  {
   "cell_type": "code",
   "execution_count": 1,
   "metadata": {
    "collapsed": true
   },
   "outputs": [],
   "source": [
    "from random import randint"
   ]
  },
  {
   "cell_type": "code",
   "execution_count": 2,
   "metadata": {},
   "outputs": [
    {
     "data": {
      "text/plain": [
       "92134"
      ]
     },
     "execution_count": 2,
     "metadata": {},
     "output_type": "execute_result"
    }
   ],
   "source": [
    "#  5 digit random integer\n",
    "randint(10000,99999)"
   ]
  },
  {
   "cell_type": "code",
   "execution_count": 3,
   "metadata": {
    "collapsed": true
   },
   "outputs": [],
   "source": [
    "\n",
    "class Savings:\n",
    "    \n",
    "    def __init__(self,name,balance):\n",
    "        self.name = name\n",
    "        #self.account = account\n",
    "        self.balance = balance\n",
    "        \n",
    "    def display_balance(self):\n",
    "        print(self.balance)\n",
    "\n",
    "    def deposit(self,deposit_amount):\n",
    "        self.balance = self.balance + deposit_amount\n",
    "    \n",
    "    def withdraw(self,withdraw_amount):\n",
    "        self.balance = self.balance - withdraw_amount\n",
    "        \n",
    "class Banking_Actions(Savings):\n",
    "    pass\n",
    "        "
   ]
  },
  {
   "cell_type": "code",
   "execution_count": 4,
   "metadata": {},
   "outputs": [
    {
     "name": "stdout",
     "output_type": "stream",
     "text": [
      "Enter 1 to create new account\n",
      "Enter 2 to access existing account\n",
      "Enter 3 to exit the system\n",
      "1\n",
      "Please enter your name: tom\n",
      "please input your initial deposit: 100\n",
      "please store 77827 for your records\n",
      "\n",
      "Enter 1 to create new account\n",
      "Enter 2 to access existing account\n",
      "Enter 3 to exit the system\n",
      "1\n",
      "Please enter your name: andy\n",
      "please input your initial deposit: 200\n",
      "please store 46081 for your records\n",
      "\n",
      "Enter 1 to create new account\n",
      "Enter 2 to access existing account\n",
      "Enter 3 to exit the system\n",
      "2\n",
      "Please Input Account Username: tom\n",
      "Please Enter Account #: 77827\n",
      "tom77827\n",
      "Account verified, thank you\n",
      "\n",
      "Enter 1 to Make a Deposit\n",
      "Enter 2 to Make a Withdrawal\n",
      "Enter 3 to Check Account Balance\n",
      "Enter 4 to Exit to Main Menu\n",
      "1\n",
      "Input Deposit ammount: 70\n",
      "Enter 1 to create new account\n",
      "Enter 2 to access existing account\n",
      "Enter 3 to exit the system\n",
      "2\n",
      "Please Input Account Username: andy\n",
      "Please Enter Account #: 46081\n",
      "andy46081\n",
      "Account verified, thank you\n",
      "\n",
      "Enter 1 to Make a Deposit\n",
      "Enter 2 to Make a Withdrawal\n",
      "Enter 3 to Check Account Balance\n",
      "Enter 4 to Exit to Main Menu\n",
      "2\n",
      "Input Withdrawal ammount: 80\n",
      "Enter 1 to create new account\n",
      "Enter 2 to access existing account\n",
      "Enter 3 to exit the system\n",
      "2\n",
      "Please Input Account Username: tom\n",
      "Please Enter Account #: 77827\n",
      "tom77827\n",
      "Account verified, thank you\n",
      "\n",
      "Enter 1 to Make a Deposit\n",
      "Enter 2 to Make a Withdrawal\n",
      "Enter 3 to Check Account Balance\n",
      "Enter 4 to Exit to Main Menu\n",
      "3\n",
      "Your Account Balance is: 170\n",
      "Enter 1 to create new account\n",
      "Enter 2 to access existing account\n",
      "Enter 3 to exit the system\n",
      "2\n",
      "Please Input Account Username: andy\n",
      "Please Enter Account #: 46081\n",
      "andy46081\n",
      "Account verified, thank you\n",
      "\n",
      "Enter 1 to Make a Deposit\n",
      "Enter 2 to Make a Withdrawal\n",
      "Enter 3 to Check Account Balance\n",
      "Enter 4 to Exit to Main Menu\n",
      "3\n",
      "Your Account Balance is: 120\n",
      "Enter 1 to create new account\n",
      "Enter 2 to access existing account\n",
      "Enter 3 to exit the system\n",
      "3\n"
     ]
    }
   ],
   "source": [
    "All_Users = []\n",
    "Global = {}\n",
    "while True: \n",
    "\n",
    "    print(\"Enter 1 to create new account\")\n",
    "    print('Enter 2 to access existing account')\n",
    "    print('Enter 3 to exit the system')\n",
    "    \n",
    "    userChoice = int(input())\n",
    "    \n",
    "\n",
    "    if userChoice is 1:\n",
    "        username = input('Please enter your name: ')\n",
    "        initial_deposit = int(input('please input your initial deposit: '))\n",
    "        acct_number = randint(10000,100000) \n",
    "        print('please store {} for your records'.format(acct_number))\n",
    "        global_user = username + str(acct_number)\n",
    "        All_Users.append(global_user)\n",
    "        #num_users = len(All_Users)\n",
    "        Global[global_user] = Savings(global_user,initial_deposit)\n",
    "        #print(username)       \n",
    "        \n",
    "        print('')\n",
    "\n",
    "    elif userChoice is 2:  \n",
    "        user_id = input('Please Input Account Username: ')\n",
    "        acct_id = input('Please Enter Account #: ')\n",
    "        full_account_name = user_id+acct_id\n",
    "        print(full_account_name)\n",
    "        if full_account_name in All_Users:\n",
    "            print('Account verified, thank you')\n",
    "            print('')\n",
    "            \n",
    "            print(\"Enter 1 to Make a Deposit\")\n",
    "            print('Enter 2 to Make a Withdrawal')\n",
    "            print('Enter 3 to Check Account Balance')\n",
    "            print('Enter 4 to Exit to Main Menu')\n",
    "            \n",
    "            bankChoice = int(input())\n",
    "            \n",
    "            if bankChoice is 1:\n",
    "                dep = int(input('Input Deposit ammount: '))\n",
    "                Global[full_account_name].deposit(dep)\n",
    "                \n",
    "            if bankChoice is 2:\n",
    "                with_amt = int(input('Input Withdrawal ammount: '))\n",
    "                Global[full_account_name].withdraw(with_amt)\n",
    "               \n",
    "            \n",
    "            if bankChoice is 3:\n",
    "                print('Your Account Balance is: {}'.format(Global[full_account_name].balance))\n",
    "            \n",
    "            if bankChoice is 4:\n",
    "                break   \n",
    "            \n",
    "        else: \n",
    "            print('sorry username and account # do not match')\n",
    "            print('')\n",
    "        \n",
    "    elif userChoice is 3:\n",
    "        \n",
    "        break"
   ]
  },
  {
   "cell_type": "code",
   "execution_count": null,
   "metadata": {
    "collapsed": true
   },
   "outputs": [],
   "source": []
  },
  {
   "cell_type": "code",
   "execution_count": null,
   "metadata": {
    "collapsed": true
   },
   "outputs": [],
   "source": []
  },
  {
   "cell_type": "code",
   "execution_count": null,
   "metadata": {
    "collapsed": true
   },
   "outputs": [],
   "source": []
  },
  {
   "cell_type": "code",
   "execution_count": null,
   "metadata": {
    "collapsed": true
   },
   "outputs": [],
   "source": []
  },
  {
   "cell_type": "code",
   "execution_count": null,
   "metadata": {
    "collapsed": true
   },
   "outputs": [],
   "source": []
  }
 ],
 "metadata": {
  "kernelspec": {
   "display_name": "Python 3",
   "language": "python",
   "name": "python3"
  },
  "language_info": {
   "codemirror_mode": {
    "name": "ipython",
    "version": 3
   },
   "file_extension": ".py",
   "mimetype": "text/x-python",
   "name": "python",
   "nbconvert_exporter": "python",
   "pygments_lexer": "ipython3",
   "version": "3.6.3"
  }
 },
 "nbformat": 4,
 "nbformat_minor": 2
}
